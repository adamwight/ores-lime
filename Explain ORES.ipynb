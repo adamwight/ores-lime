{
 "cells": [
  {
   "cell_type": "code",
   "execution_count": 1,
   "metadata": {},
   "outputs": [
    {
     "name": "stderr",
     "output_type": "stream",
     "text": [
      "/home/awight/venv/lib/python3.5/site-packages/sklearn/cross_validation.py:41: DeprecationWarning: This module was deprecated in version 0.18 in favor of the model_selection module into which all the refactored classes and functions are moved. Also note that the interface of the new CV iterators are different from that of this module. This module will be removed in 0.20.\n",
      "  \"This module will be removed in 0.20.\", DeprecationWarning)\n",
      "Differences between the current environment and the environment in which the model was constructed environment were detected:\n",
      " - platform 'Linux-4.9.0-6-amd64-x86_64-with-debian-9.4' mismatch with original environment 'Linux-4.16.0-x86_64-with-debian-9.4'\n",
      " - revscoring_version '2.2.2' mismatch with original environment '2.2.5'\n",
      " - release '4.9.0-6-amd64' mismatch with original environment '4.16.0'\n",
      " - version '#1 SMP Debian 4.9.82-1+deb9u3 (2018-03-02)' mismatch with original environment '#1 SMP Wed Apr 18 14:02:11 PDT 2018'\n"
     ]
    }
   ],
   "source": [
    "import os.path\n",
    "\n",
    "from revscoring import Model\n",
    "\n",
    "\n",
    "model_path = os.path.expanduser(\"~/editquality/models/enwiki.damaging.gradient_boosting.model\")\n",
    "sm = Model.load(open(model_path), error_on_env_check=False)"
   ]
  },
  {
   "cell_type": "code",
   "execution_count": 2,
   "metadata": {},
   "outputs": [],
   "source": [
    "import mwapi\n",
    "from revscoring.extractors import api\n",
    "\n",
    "extractor = api.Extractor(mwapi.Session(\"https://en.wikipedia.org\", user_agent=\"ORES-LIME demo\"))"
   ]
  },
  {
   "cell_type": "code",
   "execution_count": 37,
   "metadata": {},
   "outputs": [
    {
     "data": {
      "text/plain": [
       "{'prediction': False,\n",
       " 'probability': {False: 0.9006672855880219, True: 0.09933271441197815}}"
      ]
     },
     "execution_count": 37,
     "metadata": {},
     "output_type": "execute_result"
    }
   ],
   "source": [
    "import numpy as np\n",
    "\n",
    "rev_to_score = 12345678\n",
    "feature_values = np.array(list(extractor.extract(rev_to_score, sm.features)))\n",
    "sm.score(feature_values)"
   ]
  },
  {
   "cell_type": "code",
   "execution_count": 38,
   "metadata": {},
   "outputs": [
    {
     "data": {
      "text/plain": [
       "{'prediction': True,\n",
       " 'probability': {False: 0.47502357204620316, True: 0.5249764279537968}}"
      ]
     },
     "execution_count": 38,
     "metadata": {},
     "output_type": "execute_result"
    }
   ],
   "source": [
    "# FIXME: We would actually want to change the diff, though?\n",
    "feature_values = np.array(list(extractor.extract(rev_to_score, sm.features, cache={\"datasource.revision.text\": \"you\"})))\n",
    "sm.score(feature_values)"
   ]
  },
  {
   "cell_type": "code",
   "execution_count": 21,
   "metadata": {},
   "outputs": [],
   "source": [
    "# Load training set\n",
    "from revscoring.utilities.util import read_observations\n",
    "\n",
    "observations = list(read_observations(open(os.path.expanduser(\"~/editquality/datasets/enwiki.labeled_revisions.w_cache.20k_2015.json\"))))"
   ]
  },
  {
   "cell_type": "code",
   "execution_count": 23,
   "metadata": {},
   "outputs": [
    {
     "data": {
      "text/plain": [
       "{'auto_labeled': False,\n",
       " 'autolabel': {},\n",
       " 'cache': {'feature.english.badwords.revision.diff.match_delta_decrease': 0,\n",
       "  'feature.english.badwords.revision.diff.match_delta_increase': 0,\n",
       "  'feature.english.badwords.revision.diff.match_delta_sum': 0,\n",
       "  'feature.english.badwords.revision.diff.match_prop_delta_decrease': 0.0,\n",
       "  'feature.english.badwords.revision.diff.match_prop_delta_increase': 0.0,\n",
       "  'feature.english.badwords.revision.diff.match_prop_delta_sum': 0.0,\n",
       "  'feature.english.dictionary.revision.diff.dict_word_delta_decrease': -1,\n",
       "  'feature.english.dictionary.revision.diff.dict_word_delta_increase': 2,\n",
       "  'feature.english.dictionary.revision.diff.dict_word_delta_sum': 1,\n",
       "  'feature.english.dictionary.revision.diff.dict_word_prop_delta_decrease': -0.16666666666666666,\n",
       "  'feature.english.dictionary.revision.diff.dict_word_prop_delta_increase': 0.11764705882352941,\n",
       "  'feature.english.dictionary.revision.diff.dict_word_prop_delta_sum': -0.04901960784313725,\n",
       "  'feature.english.dictionary.revision.diff.non_dict_word_delta_decrease': 0,\n",
       "  'feature.english.dictionary.revision.diff.non_dict_word_delta_increase': 0,\n",
       "  'feature.english.dictionary.revision.diff.non_dict_word_delta_sum': 0,\n",
       "  'feature.english.dictionary.revision.diff.non_dict_word_prop_delta_decrease': 0.0,\n",
       "  'feature.english.dictionary.revision.diff.non_dict_word_prop_delta_increase': 0.0,\n",
       "  'feature.english.dictionary.revision.diff.non_dict_word_prop_delta_sum': 0.0,\n",
       "  'feature.english.informals.revision.diff.match_delta_decrease': 0,\n",
       "  'feature.english.informals.revision.diff.match_delta_increase': 0,\n",
       "  'feature.english.informals.revision.diff.match_delta_sum': 0,\n",
       "  'feature.english.informals.revision.diff.match_prop_delta_decrease': 0.0,\n",
       "  'feature.english.informals.revision.diff.match_prop_delta_increase': 0.0,\n",
       "  'feature.english.informals.revision.diff.match_prop_delta_sum': 0.0,\n",
       "  'feature.log((AggregatorsScalar(<datasource.tokenized(datasource.revision.parent.text)>) + 1))': 7.048386408721883,\n",
       "  'feature.log((AggregatorsScalar(<datasource.wikitext.revision.parent.uppercase_words>) + 1))': 2.995732273553991,\n",
       "  'feature.log((AggregatorsScalar(<datasource.wikitext.revision.parent.words>) + 1))': 6.013715156042802,\n",
       "  'feature.log((temporal.revision.user.seconds_since_registration + 1))': 18.770661048717624,\n",
       "  'feature.log((wikitext.revision.parent.chars + 1))': 8.327242607457793,\n",
       "  'feature.log((wikitext.revision.parent.external_links + 1))': 1.791759469228055,\n",
       "  'feature.log((wikitext.revision.parent.headings + 1))': 1.6094379124341003,\n",
       "  'feature.log((wikitext.revision.parent.ref_tags + 1))': 1.6094379124341003,\n",
       "  'feature.log((wikitext.revision.parent.templates + 1))': 2.3978952727983707,\n",
       "  'feature.log((wikitext.revision.parent.wikilinks + 1))': 3.6109179126442243,\n",
       "  'feature.revision.comment.has_link': True,\n",
       "  'feature.revision.comment.suggests_section_edit': False,\n",
       "  'feature.revision.diff.chars_change': 4.0,\n",
       "  'feature.revision.diff.external_links_change': 0.0,\n",
       "  'feature.revision.diff.headings_change': 0.0,\n",
       "  'feature.revision.diff.longest_new_repeated_char': 1,\n",
       "  'feature.revision.diff.longest_new_token': 1,\n",
       "  'feature.revision.diff.ref_tags_change': 0.0,\n",
       "  'feature.revision.diff.templates_change': 0.0,\n",
       "  'feature.revision.diff.tokens_change': 2.0,\n",
       "  'feature.revision.diff.wikilinks_change': 0.0,\n",
       "  'feature.revision.diff.words_change': 1.0,\n",
       "  'feature.revision.page.is_articleish': True,\n",
       "  'feature.revision.page.is_draftspace': False,\n",
       "  'feature.revision.page.is_mainspace': True,\n",
       "  'feature.revision.parent.chars_per_word': 10.132352941176471,\n",
       "  'feature.revision.parent.markups_per_token': 0.1373913043478261,\n",
       "  'feature.revision.parent.uppercase_words_per_word': 0.04656862745098039,\n",
       "  'feature.revision.parent.words_per_token': 0.35478260869565215,\n",
       "  'feature.revision.user.has_advanced_rights': False,\n",
       "  'feature.revision.user.is_admin': False,\n",
       "  'feature.revision.user.is_anon': False,\n",
       "  'feature.revision.user.is_bot': False,\n",
       "  'feature.revision.user.is_curator': False,\n",
       "  'feature.revision.user.is_patroller': True,\n",
       "  'feature.revision.user.is_trusted': False,\n",
       "  'feature.wikitext.revision.diff.markup_delta_decrease': 0.0,\n",
       "  'feature.wikitext.revision.diff.markup_delta_increase': 0.0,\n",
       "  'feature.wikitext.revision.diff.markup_delta_sum': 0.0,\n",
       "  'feature.wikitext.revision.diff.markup_prop_delta_decrease': 0.0,\n",
       "  'feature.wikitext.revision.diff.markup_prop_delta_increase': 0.0,\n",
       "  'feature.wikitext.revision.diff.markup_prop_delta_sum': 0.0,\n",
       "  'feature.wikitext.revision.diff.number_delta_decrease': 0.0,\n",
       "  'feature.wikitext.revision.diff.number_delta_increase': 0.0,\n",
       "  'feature.wikitext.revision.diff.number_delta_sum': 0.0,\n",
       "  'feature.wikitext.revision.diff.number_prop_delta_decrease': 0.0,\n",
       "  'feature.wikitext.revision.diff.number_prop_delta_increase': 0.0,\n",
       "  'feature.wikitext.revision.diff.number_prop_delta_sum': 0.0,\n",
       "  'feature.wikitext.revision.diff.uppercase_word_delta_decrease': 0.0,\n",
       "  'feature.wikitext.revision.diff.uppercase_word_delta_increase': 0.0,\n",
       "  'feature.wikitext.revision.diff.uppercase_word_delta_sum': 0.0,\n",
       "  'feature.wikitext.revision.diff.uppercase_word_prop_delta_decrease': 0.0,\n",
       "  'feature.wikitext.revision.diff.uppercase_word_prop_delta_increase': 0.0,\n",
       "  'feature.wikitext.revision.diff.uppercase_word_prop_delta_sum': 0.0},\n",
       " 'damaging': False,\n",
       " 'goodfaith': True,\n",
       " 'rev_id': 649854979}"
      ]
     },
     "execution_count": 23,
     "metadata": {},
     "output_type": "execute_result"
    }
   ],
   "source": [
    "observations[0]"
   ]
  },
  {
   "cell_type": "code",
   "execution_count": 50,
   "metadata": {},
   "outputs": [],
   "source": [
    "# Transform training data into a numpy matrix.\n",
    "import numpy as np\n",
    "\n",
    "# FIXME: Don't cast booleans to float.\n",
    "\n",
    "features = sorted(str(f) for f in sm.features)\n",
    "train = np.array([np.array([o[\"cache\"][k] for k in features]) for o in observations])"
   ]
  },
  {
   "cell_type": "code",
   "execution_count": 53,
   "metadata": {},
   "outputs": [
    {
     "data": {
      "text/plain": [
       "['feature.english.badwords.revision.diff.match_delta_decrease',\n",
       " 'feature.english.badwords.revision.diff.match_delta_increase',\n",
       " 'feature.english.badwords.revision.diff.match_delta_sum',\n",
       " 'feature.english.badwords.revision.diff.match_prop_delta_decrease',\n",
       " 'feature.english.badwords.revision.diff.match_prop_delta_increase',\n",
       " 'feature.english.badwords.revision.diff.match_prop_delta_sum',\n",
       " 'feature.english.dictionary.revision.diff.dict_word_delta_decrease',\n",
       " 'feature.english.dictionary.revision.diff.dict_word_delta_increase',\n",
       " 'feature.english.dictionary.revision.diff.dict_word_delta_sum',\n",
       " 'feature.english.dictionary.revision.diff.dict_word_prop_delta_decrease',\n",
       " 'feature.english.dictionary.revision.diff.dict_word_prop_delta_increase',\n",
       " 'feature.english.dictionary.revision.diff.dict_word_prop_delta_sum',\n",
       " 'feature.english.dictionary.revision.diff.non_dict_word_delta_decrease',\n",
       " 'feature.english.dictionary.revision.diff.non_dict_word_delta_increase',\n",
       " 'feature.english.dictionary.revision.diff.non_dict_word_delta_sum',\n",
       " 'feature.english.dictionary.revision.diff.non_dict_word_prop_delta_decrease',\n",
       " 'feature.english.dictionary.revision.diff.non_dict_word_prop_delta_increase',\n",
       " 'feature.english.dictionary.revision.diff.non_dict_word_prop_delta_sum',\n",
       " 'feature.english.informals.revision.diff.match_delta_decrease',\n",
       " 'feature.english.informals.revision.diff.match_delta_increase',\n",
       " 'feature.english.informals.revision.diff.match_delta_sum',\n",
       " 'feature.english.informals.revision.diff.match_prop_delta_decrease',\n",
       " 'feature.english.informals.revision.diff.match_prop_delta_increase',\n",
       " 'feature.english.informals.revision.diff.match_prop_delta_sum',\n",
       " 'feature.log((AggregatorsScalar(<datasource.tokenized(datasource.revision.parent.text)>) + 1))',\n",
       " 'feature.log((AggregatorsScalar(<datasource.wikitext.revision.parent.uppercase_words>) + 1))',\n",
       " 'feature.log((AggregatorsScalar(<datasource.wikitext.revision.parent.words>) + 1))',\n",
       " 'feature.log((temporal.revision.user.seconds_since_registration + 1))',\n",
       " 'feature.log((wikitext.revision.parent.chars + 1))',\n",
       " 'feature.log((wikitext.revision.parent.external_links + 1))',\n",
       " 'feature.log((wikitext.revision.parent.headings + 1))',\n",
       " 'feature.log((wikitext.revision.parent.ref_tags + 1))',\n",
       " 'feature.log((wikitext.revision.parent.templates + 1))',\n",
       " 'feature.log((wikitext.revision.parent.wikilinks + 1))',\n",
       " 'feature.revision.comment.has_link',\n",
       " 'feature.revision.comment.suggests_section_edit',\n",
       " 'feature.revision.diff.chars_change',\n",
       " 'feature.revision.diff.external_links_change',\n",
       " 'feature.revision.diff.headings_change',\n",
       " 'feature.revision.diff.longest_new_repeated_char',\n",
       " 'feature.revision.diff.longest_new_token',\n",
       " 'feature.revision.diff.ref_tags_change',\n",
       " 'feature.revision.diff.templates_change',\n",
       " 'feature.revision.diff.tokens_change',\n",
       " 'feature.revision.diff.wikilinks_change',\n",
       " 'feature.revision.diff.words_change',\n",
       " 'feature.revision.diff.words_change',\n",
       " 'feature.revision.page.is_articleish',\n",
       " 'feature.revision.page.is_draftspace',\n",
       " 'feature.revision.page.is_mainspace',\n",
       " 'feature.revision.parent.chars_per_word',\n",
       " 'feature.revision.parent.markups_per_token',\n",
       " 'feature.revision.parent.uppercase_words_per_word',\n",
       " 'feature.revision.parent.words_per_token',\n",
       " 'feature.revision.user.has_advanced_rights',\n",
       " 'feature.revision.user.is_admin',\n",
       " 'feature.revision.user.is_anon',\n",
       " 'feature.revision.user.is_bot',\n",
       " 'feature.revision.user.is_curator',\n",
       " 'feature.revision.user.is_patroller',\n",
       " 'feature.revision.user.is_trusted',\n",
       " 'feature.wikitext.revision.diff.markup_delta_decrease',\n",
       " 'feature.wikitext.revision.diff.markup_delta_increase',\n",
       " 'feature.wikitext.revision.diff.markup_delta_sum',\n",
       " 'feature.wikitext.revision.diff.markup_prop_delta_decrease',\n",
       " 'feature.wikitext.revision.diff.markup_prop_delta_increase',\n",
       " 'feature.wikitext.revision.diff.markup_prop_delta_sum',\n",
       " 'feature.wikitext.revision.diff.number_delta_decrease',\n",
       " 'feature.wikitext.revision.diff.number_delta_increase',\n",
       " 'feature.wikitext.revision.diff.number_delta_sum',\n",
       " 'feature.wikitext.revision.diff.number_prop_delta_decrease',\n",
       " 'feature.wikitext.revision.diff.number_prop_delta_increase',\n",
       " 'feature.wikitext.revision.diff.number_prop_delta_sum',\n",
       " 'feature.wikitext.revision.diff.uppercase_word_delta_decrease',\n",
       " 'feature.wikitext.revision.diff.uppercase_word_delta_increase',\n",
       " 'feature.wikitext.revision.diff.uppercase_word_delta_sum',\n",
       " 'feature.wikitext.revision.diff.uppercase_word_prop_delta_decrease',\n",
       " 'feature.wikitext.revision.diff.uppercase_word_prop_delta_increase',\n",
       " 'feature.wikitext.revision.diff.uppercase_word_prop_delta_sum']"
      ]
     },
     "execution_count": 53,
     "metadata": {},
     "output_type": "execute_result"
    }
   ],
   "source": [
    "features"
   ]
  },
  {
   "cell_type": "code",
   "execution_count": 55,
   "metadata": {},
   "outputs": [
    {
     "ename": "ValueError",
     "evalue": "operands could not be broadcast together with shapes (1,395000) (79,) (1,395000) ",
     "output_type": "error",
     "traceback": [
      "\u001b[0;31m---------------------------------------------------------------------------\u001b[0m",
      "\u001b[0;31mValueError\u001b[0m                                Traceback (most recent call last)",
      "\u001b[0;32m<ipython-input-55-2abddabfa0e8>\u001b[0m in \u001b[0;36m<module>\u001b[0;34m()\u001b[0m\n\u001b[1;32m     16\u001b[0m     \u001b[0mnum_features\u001b[0m\u001b[0;34m=\u001b[0m\u001b[0;36m3\u001b[0m\u001b[0;34m,\u001b[0m\u001b[0;34m\u001b[0m\u001b[0m\n\u001b[1;32m     17\u001b[0m     \u001b[0mtop_labels\u001b[0m\u001b[0;34m=\u001b[0m\u001b[0;36m3\u001b[0m\u001b[0;34m,\u001b[0m\u001b[0;34m\u001b[0m\u001b[0m\n\u001b[0;32m---> 18\u001b[0;31m     \u001b[0mmodel_regressor\u001b[0m\u001b[0;34m=\u001b[0m\u001b[0mLinearRegression\u001b[0m\u001b[0;34m(\u001b[0m\u001b[0;34m)\u001b[0m\u001b[0;34m\u001b[0m\u001b[0m\n\u001b[0m\u001b[1;32m     19\u001b[0m )\n",
      "\u001b[0;32m~/lime/lime/lime_tabular.py\u001b[0m in \u001b[0;36mexplain_instance\u001b[0;34m(self, data_row, predict_fn, labels, top_labels, num_features, num_samples, distance_metric, model_regressor)\u001b[0m\n\u001b[1;32m    272\u001b[0m         ).ravel()\n\u001b[1;32m    273\u001b[0m \u001b[0;34m\u001b[0m\u001b[0m\n\u001b[0;32m--> 274\u001b[0;31m         \u001b[0myss\u001b[0m \u001b[0;34m=\u001b[0m \u001b[0mpredict_fn\u001b[0m\u001b[0;34m(\u001b[0m\u001b[0minverse\u001b[0m\u001b[0;34m)\u001b[0m\u001b[0;34m\u001b[0m\u001b[0m\n\u001b[0m\u001b[1;32m    275\u001b[0m \u001b[0;34m\u001b[0m\u001b[0m\n\u001b[1;32m    276\u001b[0m         \u001b[0;31m# for classification, the model needs to provide a list of tuples - classes\u001b[0m\u001b[0;34m\u001b[0m\u001b[0;34m\u001b[0m\u001b[0m\n",
      "\u001b[0;32m~/revscoring/revscoring/scoring/models/sklearn.py\u001b[0m in \u001b[0;36mscore\u001b[0;34m(self, feature_values)\u001b[0m\n\u001b[1;32m    245\u001b[0m         \"\"\"\n\u001b[1;32m    246\u001b[0m         \u001b[0mfv_vector\u001b[0m \u001b[0;34m=\u001b[0m \u001b[0mvectorize_values\u001b[0m\u001b[0;34m(\u001b[0m\u001b[0mfeature_values\u001b[0m\u001b[0;34m)\u001b[0m\u001b[0;34m\u001b[0m\u001b[0m\n\u001b[0;32m--> 247\u001b[0;31m         \u001b[0mscaled_fv_vector\u001b[0m \u001b[0;34m=\u001b[0m \u001b[0mself\u001b[0m\u001b[0;34m.\u001b[0m\u001b[0mapply_scaling\u001b[0m\u001b[0;34m(\u001b[0m\u001b[0mfv_vector\u001b[0m\u001b[0;34m)\u001b[0m\u001b[0;34m\u001b[0m\u001b[0m\n\u001b[0m\u001b[1;32m    248\u001b[0m         \u001b[0mprediction\u001b[0m\u001b[0;34m,\u001b[0m \u001b[0mprobas\u001b[0m\u001b[0;34m,\u001b[0m \u001b[0mprobability\u001b[0m \u001b[0;34m=\u001b[0m \u001b[0;34m[\u001b[0m\u001b[0;34m]\u001b[0m\u001b[0;34m,\u001b[0m \u001b[0;34m[\u001b[0m\u001b[0;34m]\u001b[0m\u001b[0;34m,\u001b[0m \u001b[0;34m[\u001b[0m\u001b[0;34m]\u001b[0m\u001b[0;34m\u001b[0m\u001b[0m\n\u001b[1;32m    249\u001b[0m         \u001b[0;32mif\u001b[0m \u001b[0mself\u001b[0m\u001b[0;34m.\u001b[0m\u001b[0mmultilabel\u001b[0m\u001b[0;34m:\u001b[0m\u001b[0;34m\u001b[0m\u001b[0m\n",
      "\u001b[0;32m~/revscoring/revscoring/scoring/models/model.py\u001b[0m in \u001b[0;36mapply_scaling\u001b[0;34m(self, fv_vector)\u001b[0m\n\u001b[1;32m    200\u001b[0m                 raise RuntimeError(\"Cannot scale a vector before \" +\n\u001b[1;32m    201\u001b[0m                                    \"training the scaler\")\n\u001b[0;32m--> 202\u001b[0;31m             \u001b[0mfv_vector\u001b[0m \u001b[0;34m=\u001b[0m \u001b[0mself\u001b[0m\u001b[0;34m.\u001b[0m\u001b[0mscaler\u001b[0m\u001b[0;34m.\u001b[0m\u001b[0mtransform\u001b[0m\u001b[0;34m(\u001b[0m\u001b[0;34m[\u001b[0m\u001b[0mfv_vector\u001b[0m\u001b[0;34m]\u001b[0m\u001b[0;34m)\u001b[0m\u001b[0;34m[\u001b[0m\u001b[0;36m0\u001b[0m\u001b[0;34m]\u001b[0m\u001b[0;34m\u001b[0m\u001b[0m\n\u001b[0m\u001b[1;32m    203\u001b[0m \u001b[0;34m\u001b[0m\u001b[0m\n\u001b[1;32m    204\u001b[0m         \u001b[0;32mreturn\u001b[0m \u001b[0mfv_vector\u001b[0m\u001b[0;34m\u001b[0m\u001b[0m\n",
      "\u001b[0;32m~/venv/lib/python3.5/site-packages/sklearn/preprocessing/data.py\u001b[0m in \u001b[0;36mtransform\u001b[0;34m(self, X)\u001b[0m\n\u001b[1;32m   1081\u001b[0m         \u001b[0;32melse\u001b[0m\u001b[0;34m:\u001b[0m\u001b[0;34m\u001b[0m\u001b[0m\n\u001b[1;32m   1082\u001b[0m             \u001b[0;32mif\u001b[0m \u001b[0mself\u001b[0m\u001b[0;34m.\u001b[0m\u001b[0mwith_centering\u001b[0m\u001b[0;34m:\u001b[0m\u001b[0;34m\u001b[0m\u001b[0m\n\u001b[0;32m-> 1083\u001b[0;31m                 \u001b[0mX\u001b[0m \u001b[0;34m-=\u001b[0m \u001b[0mself\u001b[0m\u001b[0;34m.\u001b[0m\u001b[0mcenter_\u001b[0m\u001b[0;34m\u001b[0m\u001b[0m\n\u001b[0m\u001b[1;32m   1084\u001b[0m             \u001b[0;32mif\u001b[0m \u001b[0mself\u001b[0m\u001b[0;34m.\u001b[0m\u001b[0mwith_scaling\u001b[0m\u001b[0;34m:\u001b[0m\u001b[0;34m\u001b[0m\u001b[0m\n\u001b[1;32m   1085\u001b[0m                 \u001b[0mX\u001b[0m \u001b[0;34m/=\u001b[0m \u001b[0mself\u001b[0m\u001b[0;34m.\u001b[0m\u001b[0mscale_\u001b[0m\u001b[0;34m\u001b[0m\u001b[0m\n",
      "\u001b[0;31mValueError\u001b[0m: operands could not be broadcast together with shapes (1,395000) (79,) (1,395000) "
     ]
    }
   ],
   "source": [
    "# TODO: Also explain as text, using our own explainer to run variations.\n",
    "\n",
    "from sklearn.linear_model import LinearRegression\n",
    "from lime.lime_tabular import LimeTabularExplainer\n",
    "\n",
    "explainer = LimeTabularExplainer(\n",
    "    train,\n",
    "    mode=\"classification\",\n",
    "    feature_names=features,\n",
    "    class_names=[\"damaging\", \"not damaging\"],\n",
    "    discretize_continuous=True\n",
    ")\n",
    "exp = explainer.explain_instance(\n",
    "    np.array(feature_values),\n",
    "    sm.score,\n",
    "    num_features=3,\n",
    "    top_labels=3,\n",
    "    model_regressor=LinearRegression()\n",
    ")"
   ]
  },
  {
   "cell_type": "code",
   "execution_count": null,
   "metadata": {},
   "outputs": [],
   "source": []
  }
 ],
 "metadata": {
  "kernelspec": {
   "display_name": "Python 3",
   "language": "python",
   "name": "python3"
  },
  "language_info": {
   "codemirror_mode": {
    "name": "ipython",
    "version": 3
   },
   "file_extension": ".py",
   "mimetype": "text/x-python",
   "name": "python",
   "nbconvert_exporter": "python",
   "pygments_lexer": "ipython3",
   "version": "3.5.3"
  }
 },
 "nbformat": 4,
 "nbformat_minor": 2
}
