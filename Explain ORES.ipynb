{
 "cells": [
  {
   "cell_type": "code",
   "execution_count": 2,
   "metadata": {},
   "outputs": [
    {
     "name": "stderr",
     "output_type": "stream",
     "text": [
      "Differences between the current environment and the environment in which the model was constructed environment were detected:\n",
      " - release '4.9.0-6-amd64' mismatch with original environment '4.16.0'\n",
      " - version '#1 SMP Debian 4.9.82-1+deb9u3 (2018-03-02)' mismatch with original environment '#1 SMP Wed Apr 18 14:02:11 PDT 2018'\n",
      " - platform 'Linux-4.9.0-6-amd64-x86_64-with-debian-9.4' mismatch with original environment 'Linux-4.16.0-x86_64-with-debian-9.4'\n",
      " - revscoring_version '2.2.2' mismatch with original environment '2.2.5'\n"
     ]
    }
   ],
   "source": [
    "import os.path\n",
    "\n",
    "from revscoring import Model\n",
    "\n",
    "\n",
    "model_path = os.path.expanduser(\"~/editquality/models/enwiki.damaging.gradient_boosting.model\")\n",
    "sm = Model.load(open(model_path), error_on_env_check=False)"
   ]
  },
  {
   "cell_type": "code",
   "execution_count": 4,
   "metadata": {},
   "outputs": [],
   "source": [
    "import mwapi\n",
    "from revscoring.extractors import api\n",
    "\n",
    "extractor = api.Extractor(mwapi.Session(\"https://en.wikipedia.org\", user_agent=\"ORES-LIME demo\"))"
   ]
  },
  {
   "cell_type": "code",
   "execution_count": 9,
   "metadata": {},
   "outputs": [
    {
     "data": {
      "text/plain": [
       "{'prediction': False,\n",
       " 'probability': {False: 0.9006672855880219, True: 0.09933271441197815}}"
      ]
     },
     "execution_count": 9,
     "metadata": {},
     "output_type": "execute_result"
    }
   ],
   "source": [
    "rev_to_score = 12345678\n",
    "feature_values = list(extractor.extract(rev_to_score, sm.features))\n",
    "sm.score(feature_values)"
   ]
  },
  {
   "cell_type": "code",
   "execution_count": 13,
   "metadata": {},
   "outputs": [
    {
     "data": {
      "text/plain": [
       "{'prediction': True,\n",
       " 'probability': {False: 0.47502357204620316, True: 0.5249764279537968}}"
      ]
     },
     "execution_count": 13,
     "metadata": {},
     "output_type": "execute_result"
    }
   ],
   "source": [
    "# FIXME: We would actually want to change the diff, though?\n",
    "feature_values = list(extractor.extract(rev_to_score, sm.features, cache={\"datasource.revision.text\": \"you\"}))\n",
    "sm.score(feature_values)"
   ]
  },
  {
   "cell_type": "code",
   "execution_count": null,
   "metadata": {},
   "outputs": [],
   "source": [
    "# TODO: explain both as tokens, and features.\n",
    "\n",
    "from lime.lime_tabular import LimeTabularExplainer\n",
    "\n",
    "# FIXME: Need to supply with training data\n",
    "explainer = LimeTabularExplainer(\n",
    "    None, # FIXME\n",
    "    mode=\"classification\",\n",
    "    feature_names=sm.features,\n",
    "    class_names=[\"damaging\", \"not damaging\"],\n",
    "    discretize_continuous=False\n",
    ")\n",
    "exp = explainer.explain_instance"
   ]
  }
 ],
 "metadata": {
  "kernelspec": {
   "display_name": "Python 3",
   "language": "python",
   "name": "python3"
  },
  "language_info": {
   "codemirror_mode": {
    "name": "ipython",
    "version": 3
   },
   "file_extension": ".py",
   "mimetype": "text/x-python",
   "name": "python",
   "nbconvert_exporter": "python",
   "pygments_lexer": "ipython3",
   "version": "3.5.3"
  }
 },
 "nbformat": 4,
 "nbformat_minor": 2
}
