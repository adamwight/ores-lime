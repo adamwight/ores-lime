{
 "cells": [
  {
   "cell_type": "markdown",
   "metadata": {},
   "source": []
  },
  {
   "cell_type": "code",
   "execution_count": 143,
   "metadata": {},
   "outputs": [
    {
     "name": "stderr",
     "output_type": "stream",
     "text": [
      "Differences between the current environment and the environment in which the model was constructed environment were detected:\n",
      " - platform 'Linux-4.9.0-6-amd64-x86_64-with-debian-9.4' mismatch with original environment 'Linux-4.16.0-x86_64-with-debian-9.4'\n",
      " - revscoring_version '2.2.2' mismatch with original environment '2.2.5'\n",
      " - release '4.9.0-6-amd64' mismatch with original environment '4.16.0'\n",
      " - version '#1 SMP Debian 4.9.82-1+deb9u3 (2018-03-02)' mismatch with original environment '#1 SMP Wed Apr 18 14:02:11 PDT 2018'\n"
     ]
    }
   ],
   "source": [
    "import os.path\n",
    "\n",
    "from revscoring import Model\n",
    "\n",
    "\n",
    "model_path = os.path.expanduser(\"~/editquality/models/enwiki.damaging.gradient_boosting.model\")\n",
    "sm = Model.load(open(model_path), error_on_env_check=False)"
   ]
  },
  {
   "cell_type": "code",
   "execution_count": 144,
   "metadata": {},
   "outputs": [],
   "source": [
    "import mwapi\n",
    "from revscoring.extractors import api\n",
    "\n",
    "extractor = api.Extractor(mwapi.Session(\"https://en.wikipedia.org\", user_agent=\"ORES-LIME demo\"))"
   ]
  },
  {
   "cell_type": "code",
   "execution_count": 145,
   "metadata": {},
   "outputs": [
    {
     "data": {
      "text/plain": [
       "array([1.00000000e+00, 1.00000000e+00, 0.00000000e+00, 5.71042702e+00,\n",
       "       4.73619845e+00, 3.76120012e+00, 0.00000000e+00, 0.00000000e+00,\n",
       "       1.60943791e+00, 0.00000000e+00, 0.00000000e+00, 0.00000000e+00,\n",
       "       7.16666667e+00, 3.71681416e-01, 0.00000000e+00, 1.06194690e-01,\n",
       "       8.00000000e+00, 8.00000000e+00, 0.00000000e+00, 1.60000000e+00,\n",
       "       1.60000000e+00, 0.00000000e+00, 0.00000000e+00, 0.00000000e+00,\n",
       "       0.00000000e+00, 0.00000000e+00, 0.00000000e+00, 0.00000000e+00,\n",
       "       0.00000000e+00, 0.00000000e+00, 0.00000000e+00, 0.00000000e+00,\n",
       "       0.00000000e+00, 0.00000000e+00, 6.48000000e+02, 2.14000000e+02,\n",
       "       6.90000000e+01, 6.90000000e+01, 0.00000000e+00, 0.00000000e+00,\n",
       "       4.00000000e+00, 0.00000000e+00, 0.00000000e+00, 1.90000000e+01,\n",
       "       1.90000000e+01, 0.00000000e+00, 0.00000000e+00, 0.00000000e+00,\n",
       "       0.00000000e+00, 0.00000000e+00, 0.00000000e+00, 1.00000000e+00,\n",
       "       0.00000000e+00, 0.00000000e+00, 0.00000000e+00, 0.00000000e+00,\n",
       "       0.00000000e+00, 0.00000000e+00, 0.00000000e+00, 0.00000000e+00,\n",
       "       0.00000000e+00, 0.00000000e+00, 0.00000000e+00, 0.00000000e+00,\n",
       "       0.00000000e+00, 0.00000000e+00, 0.00000000e+00, 6.80000000e+01,\n",
       "       6.80000000e+01, 0.00000000e+00, 5.47500000e+01, 5.47500000e+01,\n",
       "       0.00000000e+00, 1.00000000e+00, 1.00000000e+00, 0.00000000e+00,\n",
       "       1.00000000e+00, 1.00000000e+00, 0.00000000e+00])"
      ]
     },
     "execution_count": 145,
     "metadata": {},
     "output_type": "execute_result"
    }
   ],
   "source": [
    "import numpy as np\n",
    "\n",
    "rev_to_score = 12345\n",
    "feature_values = np.array(list(extractor.extract(rev_to_score, sm.features)))\n",
    "sm.score(feature_values)\n",
    "feature_values"
   ]
  },
  {
   "cell_type": "code",
   "execution_count": 21,
   "metadata": {},
   "outputs": [],
   "source": [
    "# Load training set\n",
    "from revscoring.utilities.util import read_observations\n",
    "\n",
    "observations = list(read_observations(open(os.path.expanduser(\"~/editquality/datasets/enwiki.labeled_revisions.w_cache.20k_2015.json\"))))"
   ]
  },
  {
   "cell_type": "code",
   "execution_count": 131,
   "metadata": {},
   "outputs": [],
   "source": [
    "# Transform training data into a numpy matrix.\n",
    "import numpy as np\n",
    "\n",
    "# FIXME: Don't cast booleans to float.\n",
    "\n",
    "features = [str(f) for f in sm.features]\n",
    "train = np.array([np.array([o[\"cache\"][k] for k in features]) for o in observations])"
   ]
  },
  {
   "cell_type": "code",
   "execution_count": 135,
   "metadata": {},
   "outputs": [],
   "source": [
    "# TODO: Also explain as text, using our own explainer to run variations.\n",
    "\n",
    "from sklearn.linear_model import LinearRegression\n",
    "from lime.lime_tabular import LimeTabularExplainer\n",
    "\n",
    "def score(samples):\n",
    "    raw_results = [np.array([sm.score(v)[\"probability\"][t] for t in [False, True]]) for v in samples]\n",
    "    return np.array(raw_results)\n",
    "\n",
    "explainer = LimeTabularExplainer(\n",
    "    train,\n",
    "    mode=\"classification\",\n",
    "    feature_names=features,\n",
    "    class_names=[\"not damaging\", \"damaging\"],\n",
    "    discretize_continuous=False\n",
    ")"
   ]
  },
  {
   "cell_type": "code",
   "execution_count": 140,
   "metadata": {},
   "outputs": [
    {
     "data": {
      "text/plain": [
       "[('feature.revision.page.is_articleish', 1.0),\n",
       " ('feature.revision.page.is_mainspace', 1.0),\n",
       " ('feature.revision.page.is_draftspace', 0.0),\n",
       " ('feature.log((wikitext.revision.parent.chars + 1))', 5.71042701737487),\n",
       " ('feature.log((AggregatorsScalar(<datasource.tokenized(datasource.revision.parent.text)>) + 1))',\n",
       "  4.736198448394496),\n",
       " ('feature.log((AggregatorsScalar(<datasource.wikitext.revision.parent.words>) + 1))',\n",
       "  3.7612001156935624),\n",
       " ('feature.log((AggregatorsScalar(<datasource.wikitext.revision.parent.uppercase_words>) + 1))',\n",
       "  0.0),\n",
       " ('feature.log((wikitext.revision.parent.headings + 1))', 0.0),\n",
       " ('feature.log((wikitext.revision.parent.wikilinks + 1))', 1.6094379124341003),\n",
       " ('feature.log((wikitext.revision.parent.external_links + 1))', 0.0),\n",
       " ('feature.log((wikitext.revision.parent.templates + 1))', 0.0),\n",
       " ('feature.log((wikitext.revision.parent.ref_tags + 1))', 0.0),\n",
       " ('feature.revision.parent.chars_per_word', 7.166666666666667),\n",
       " ('feature.revision.parent.words_per_token', 0.37168141592920356),\n",
       " ('feature.revision.parent.uppercase_words_per_word', 0.0),\n",
       " ('feature.revision.parent.markups_per_token', 0.10619469026548672),\n",
       " ('feature.wikitext.revision.diff.markup_delta_sum', 8.0),\n",
       " ('feature.wikitext.revision.diff.markup_delta_increase', 8.0),\n",
       " ('feature.wikitext.revision.diff.markup_delta_decrease', 0.0),\n",
       " ('feature.wikitext.revision.diff.markup_prop_delta_sum', 1.6),\n",
       " ('feature.wikitext.revision.diff.markup_prop_delta_increase', 1.6),\n",
       " ('feature.wikitext.revision.diff.markup_prop_delta_decrease', 0.0),\n",
       " ('feature.wikitext.revision.diff.number_delta_sum', 0.0),\n",
       " ('feature.wikitext.revision.diff.number_delta_increase', 0.0),\n",
       " ('feature.wikitext.revision.diff.number_delta_decrease', 0.0),\n",
       " ('feature.wikitext.revision.diff.number_prop_delta_sum', 0.0),\n",
       " ('feature.wikitext.revision.diff.number_prop_delta_increase', 0.0),\n",
       " ('feature.wikitext.revision.diff.number_prop_delta_decrease', 0.0),\n",
       " ('feature.wikitext.revision.diff.uppercase_word_delta_sum', 0.0),\n",
       " ('feature.wikitext.revision.diff.uppercase_word_delta_increase', 0.0),\n",
       " ('feature.wikitext.revision.diff.uppercase_word_delta_decrease', 0.0),\n",
       " ('feature.wikitext.revision.diff.uppercase_word_prop_delta_sum', 0.0),\n",
       " ('feature.wikitext.revision.diff.uppercase_word_prop_delta_increase', 0.0),\n",
       " ('feature.wikitext.revision.diff.uppercase_word_prop_delta_decrease', 0.0),\n",
       " ('feature.revision.diff.chars_change', 648.0),\n",
       " ('feature.revision.diff.tokens_change', 214.0),\n",
       " ('feature.revision.diff.words_change', 69.0),\n",
       " ('feature.revision.diff.words_change', 69.0),\n",
       " ('feature.revision.diff.headings_change', 0.0),\n",
       " ('feature.revision.diff.external_links_change', 0.0),\n",
       " ('feature.revision.diff.wikilinks_change', 4.0),\n",
       " ('feature.revision.diff.templates_change', 0.0),\n",
       " ('feature.revision.diff.ref_tags_change', 0.0),\n",
       " ('feature.revision.diff.longest_new_token', 19.0),\n",
       " ('feature.revision.diff.longest_new_repeated_char', 19.0),\n",
       " ('feature.revision.user.is_bot', 0.0),\n",
       " ('feature.revision.user.has_advanced_rights', 0.0),\n",
       " ('feature.revision.user.is_admin', 0.0),\n",
       " ('feature.revision.user.is_trusted', 0.0),\n",
       " ('feature.revision.user.is_patroller', 0.0),\n",
       " ('feature.revision.user.is_curator', 0.0),\n",
       " ('feature.revision.user.is_anon', 1.0),\n",
       " ('feature.log((temporal.revision.user.seconds_since_registration + 1))', 0.0),\n",
       " ('feature.revision.comment.suggests_section_edit', 0.0),\n",
       " ('feature.revision.comment.has_link', 0.0),\n",
       " ('feature.english.badwords.revision.diff.match_delta_sum', 0.0),\n",
       " ('feature.english.badwords.revision.diff.match_delta_increase', 0.0),\n",
       " ('feature.english.badwords.revision.diff.match_delta_decrease', 0.0),\n",
       " ('feature.english.badwords.revision.diff.match_prop_delta_sum', 0.0),\n",
       " ('feature.english.badwords.revision.diff.match_prop_delta_increase', 0.0),\n",
       " ('feature.english.badwords.revision.diff.match_prop_delta_decrease', 0.0),\n",
       " ('feature.english.informals.revision.diff.match_delta_sum', 0.0),\n",
       " ('feature.english.informals.revision.diff.match_delta_increase', 0.0),\n",
       " ('feature.english.informals.revision.diff.match_delta_decrease', 0.0),\n",
       " ('feature.english.informals.revision.diff.match_prop_delta_sum', 0.0),\n",
       " ('feature.english.informals.revision.diff.match_prop_delta_increase', 0.0),\n",
       " ('feature.english.informals.revision.diff.match_prop_delta_decrease', 0.0),\n",
       " ('feature.english.dictionary.revision.diff.dict_word_delta_sum', 68.0),\n",
       " ('feature.english.dictionary.revision.diff.dict_word_delta_increase', 68.0),\n",
       " ('feature.english.dictionary.revision.diff.dict_word_delta_decrease', 0.0),\n",
       " ('feature.english.dictionary.revision.diff.dict_word_prop_delta_sum', 54.75),\n",
       " ('feature.english.dictionary.revision.diff.dict_word_prop_delta_increase',\n",
       "  54.75),\n",
       " ('feature.english.dictionary.revision.diff.dict_word_prop_delta_decrease',\n",
       "  0.0),\n",
       " ('feature.english.dictionary.revision.diff.non_dict_word_delta_sum', 1.0),\n",
       " ('feature.english.dictionary.revision.diff.non_dict_word_delta_increase',\n",
       "  1.0),\n",
       " ('feature.english.dictionary.revision.diff.non_dict_word_delta_decrease',\n",
       "  0.0),\n",
       " ('feature.english.dictionary.revision.diff.non_dict_word_prop_delta_sum',\n",
       "  1.0),\n",
       " ('feature.english.dictionary.revision.diff.non_dict_word_prop_delta_increase',\n",
       "  1.0),\n",
       " ('feature.english.dictionary.revision.diff.non_dict_word_prop_delta_decrease',\n",
       "  0.0)]"
      ]
     },
     "execution_count": 140,
     "metadata": {},
     "output_type": "execute_result"
    }
   ],
   "source": [
    "list(zip(features, feature_values))"
   ]
  },
  {
   "cell_type": "code",
   "execution_count": 136,
   "metadata": {},
   "outputs": [],
   "source": [
    "exp = explainer.explain_instance(\n",
    "    np.array(feature_values),\n",
    "    score,\n",
    "    num_features=10,\n",
    "    top_labels=10,\n",
    "    model_regressor=LinearRegression()\n",
    ")"
   ]
  },
  {
   "cell_type": "code",
   "execution_count": 137,
   "metadata": {},
   "outputs": [
    {
     "data": {
      "image/png": "[encoded data removed]",
      "text/plain": [
       "<Figure size 432x288 with 1 Axes>"
      ]
     },
     "metadata": {},
     "output_type": "display_data"
    }
   ],
   "source": [
    "%matplotlib inline\n",
    "fig = exp.as_pyplot_figure()"
   ]
  },
  {
   "cell_type": "code",
   "execution_count": 122,
   "metadata": {},
   "outputs": [
    {
     "data": {
      "text/plain": [
       "[('feature.log((temporal.revision.user.seconds_since_registration + 1)) <= 14.98',\n",
       "  0.09945282539734833),\n",
       " ('feature.revision.user.is_patroller <= 0.00', 0.04699259895611817),\n",
       " ('feature.revision.user.is_bot <= 0.00', 0.028144618006953996),\n",
       " ('feature.revision.comment.has_link <= 0.00', 0.024358653170089735),\n",
       " ('0.00 < feature.revision.page.is_articleish <= 1.00', 0.016670733139106258)]"
      ]
     },
     "execution_count": 122,
     "metadata": {},
     "output_type": "execute_result"
    }
   ],
   "source": [
    "exp.as_list()"
   ]
  },
  {
   "cell_type": "code",
   "execution_count": 110,
   "metadata": {},
   "outputs": [
    {
     "data": {
      "text/plain": [
       "[0.9006672855880219, 0.09933271441197815]"
      ]
     },
     "execution_count": 110,
     "metadata": {},
     "output_type": "execute_result"
    }
   ],
   "source": [
    "[sm.score(feature_values)[\"probability\"][t] for t in [False, True]]"
   ]
  }
 ],
 "metadata": {
  "kernelspec": {
   "display_name": "Python 3",
   "language": "python",
   "name": "python3"
  },
  "language_info": {
   "codemirror_mode": {
    "name": "ipython",
    "version": 3
   },
   "file_extension": ".py",
   "mimetype": "text/x-python",
   "name": "python",
   "nbconvert_exporter": "python",
   "pygments_lexer": "ipython3",
   "version": "3.5.3"
  }
 },
 "nbformat": 4,
 "nbformat_minor": 2
}
