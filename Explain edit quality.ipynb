{
 "cells": [
  {
   "cell_type": "markdown",
   "metadata": {},
   "source": [
    "Score and explain a `damaging` prediction.\n",
    "\n",
    "Requires the \"editquality\" repository is checked out under your home directory."
   ]
  },
  {
   "cell_type": "code",
   "execution_count": 1,
   "metadata": {},
   "outputs": [
    {
     "name": "stderr",
     "output_type": "stream",
     "text": [
      "/home/awight/venv/lib/python3.5/site-packages/sklearn/cross_validation.py:41: DeprecationWarning: This module was deprecated in version 0.18 in favor of the model_selection module into which all the refactored classes and functions are moved. Also note that the interface of the new CV iterators are different from that of this module. This module will be removed in 0.20.\n",
      "  \"This module will be removed in 0.20.\", DeprecationWarning)\n",
      "Differences between the current environment and the environment in which the model was constructed environment were detected:\n",
      " - platform 'Linux-4.9.0-6-amd64-x86_64-with-debian-9.4' mismatch with original environment 'Linux-4.16.0-x86_64-with-debian-9.4'\n",
      " - release '4.9.0-6-amd64' mismatch with original environment '4.16.0'\n",
      " - revscoring_version '2.2.2' mismatch with original environment '2.2.5'\n",
      " - version '#1 SMP Debian 4.9.82-1+deb9u3 (2018-03-02)' mismatch with original environment '#1 SMP Wed Apr 18 14:02:11 PDT 2018'\n"
     ]
    }
   ],
   "source": [
    "import os.path\n",
    "\n",
    "from revscoring import Model\n",
    "\n",
    "\n",
    "model_path = os.path.expanduser(\"~/editquality/models/enwiki.damaging.gradient_boosting.model\")\n",
    "sm = Model.load(open(model_path), error_on_env_check=False)"
   ]
  },
  {
   "cell_type": "code",
   "execution_count": 2,
   "metadata": {},
   "outputs": [],
   "source": [
    "import mwapi\n",
    "from revscoring.extractors import api\n",
    "\n",
    "extractor = api.Extractor(mwapi.Session(\"https://en.wikipedia.org\", user_agent=\"ORES-LIME demo\"))"
   ]
  },
  {
   "cell_type": "code",
   "execution_count": 3,
   "metadata": {},
   "outputs": [],
   "source": [
    "# Load training set\n",
    "from revscoring.utilities.util import read_observations\n",
    "\n",
    "observations = list(read_observations(open(os.path.expanduser(\"~/editquality/datasets/enwiki.labeled_revisions.w_cache.20k_2015.json\"))))"
   ]
  },
  {
   "cell_type": "markdown",
   "metadata": {},
   "source": [
    "Pick a revision, extract the features and score."
   ]
  },
  {
   "cell_type": "code",
   "execution_count": 4,
   "metadata": {},
   "outputs": [
    {
     "name": "stdout",
     "output_type": "stream",
     "text": [
      "https://en.wikipedia.org/?diff=846560716\n",
      "[['feature.revision.page.is_articleish' '1.0']\n",
      " ['feature.revision.page.is_mainspace' '1.0']\n",
      " ['feature.revision.page.is_draftspace' '0.0']\n",
      " ['feature.log((wikitext.revision.parent.chars + 1))' '10.40289827348682']\n",
      " ['feature.log((AggregatorsScalar(<datasource.tokenized(datasource.revision.parent.text)>) + 1))'\n",
      "  '9.296334565143043']\n",
      " ['feature.log((AggregatorsScalar(<datasource.wikitext.revision.parent.words>) + 1))'\n",
      "  '8.38662882139512']\n",
      " ['feature.log((AggregatorsScalar(<datasource.wikitext.revision.parent.uppercase_words>) + 1))'\n",
      "  '3.044522437723423']\n",
      " ['feature.log((wikitext.revision.parent.headings + 1))'\n",
      "  '2.70805020110221']\n",
      " ['feature.log((wikitext.revision.parent.wikilinks + 1))'\n",
      "  '5.3471075307174685']\n",
      " ['feature.log((wikitext.revision.parent.external_links + 1))'\n",
      "  '2.772588722239781']\n",
      " ['feature.log((wikitext.revision.parent.templates + 1))'\n",
      "  '3.4657359027997265']\n",
      " ['feature.log((wikitext.revision.parent.ref_tags + 1))'\n",
      "  '3.2188758248682006']\n",
      " ['feature.revision.parent.chars_per_word' '7.511739229541828']\n",
      " ['feature.revision.parent.words_per_token' '0.40258786822061116']\n",
      " ['feature.revision.parent.uppercase_words_per_word'\n",
      "  '0.0045589240939138366']\n",
      " ['feature.revision.parent.markups_per_token' '0.06258603285307883']\n",
      " ['feature.wikitext.revision.diff.markup_delta_sum' '0.0']\n",
      " ['feature.wikitext.revision.diff.markup_delta_increase' '0.0']\n",
      " ['feature.wikitext.revision.diff.markup_delta_decrease' '0.0']\n",
      " ['feature.wikitext.revision.diff.markup_prop_delta_sum' '0.0']\n",
      " ['feature.wikitext.revision.diff.markup_prop_delta_increase' '0.0']\n",
      " ['feature.wikitext.revision.diff.markup_prop_delta_decrease' '0.0']\n",
      " ['feature.wikitext.revision.diff.number_delta_sum' '0.0']\n",
      " ['feature.wikitext.revision.diff.number_delta_increase' '0.0']\n",
      " ['feature.wikitext.revision.diff.number_delta_decrease' '0.0']\n",
      " ['feature.wikitext.revision.diff.number_prop_delta_sum' '0.0']\n",
      " ['feature.wikitext.revision.diff.number_prop_delta_increase' '0.0']\n",
      " ['feature.wikitext.revision.diff.number_prop_delta_decrease' '0.0']\n",
      " ['feature.wikitext.revision.diff.uppercase_word_delta_sum' '0.0']\n",
      " ['feature.wikitext.revision.diff.uppercase_word_delta_increase' '0.0']\n",
      " ['feature.wikitext.revision.diff.uppercase_word_delta_decrease' '0.0']\n",
      " ['feature.wikitext.revision.diff.uppercase_word_prop_delta_sum' '0.0']\n",
      " ['feature.wikitext.revision.diff.uppercase_word_prop_delta_increase'\n",
      "  '0.0']\n",
      " ['feature.wikitext.revision.diff.uppercase_word_prop_delta_decrease'\n",
      "  '0.0']\n",
      " ['feature.revision.diff.chars_change' '51.0']\n",
      " ['feature.revision.diff.tokens_change' '16.0']\n",
      " ['feature.revision.diff.words_change' '8.0']\n",
      " ['feature.revision.diff.words_change' '8.0']\n",
      " ['feature.revision.diff.headings_change' '0.0']\n",
      " ['feature.revision.diff.external_links_change' '0.0']\n",
      " ['feature.revision.diff.wikilinks_change' '0.0']\n",
      " ['feature.revision.diff.templates_change' '0.0']\n",
      " ['feature.revision.diff.ref_tags_change' '0.0']\n",
      " ['feature.revision.diff.longest_new_token' '1.0']\n",
      " ['feature.revision.diff.longest_new_repeated_char' '5.0']\n",
      " ['feature.revision.user.is_bot' '0.0']\n",
      " ['feature.revision.user.has_advanced_rights' '0.0']\n",
      " ['feature.revision.user.is_admin' '0.0']\n",
      " ['feature.revision.user.is_trusted' '0.0']\n",
      " ['feature.revision.user.is_patroller' '0.0']\n",
      " ['feature.revision.user.is_curator' '0.0']\n",
      " ['feature.revision.user.is_anon' '1.0']\n",
      " ['feature.log((temporal.revision.user.seconds_since_registration + 1))'\n",
      "  '0.0']\n",
      " ['feature.revision.comment.suggests_section_edit' '0.0']\n",
      " ['feature.revision.comment.has_link' '0.0']\n",
      " ['feature.english.badwords.revision.diff.match_delta_sum' '0.0']\n",
      " ['feature.english.badwords.revision.diff.match_delta_increase' '0.0']\n",
      " ['feature.english.badwords.revision.diff.match_delta_decrease' '0.0']\n",
      " ['feature.english.badwords.revision.diff.match_prop_delta_sum' '0.0']\n",
      " ['feature.english.badwords.revision.diff.match_prop_delta_increase'\n",
      "  '0.0']\n",
      " ['feature.english.badwords.revision.diff.match_prop_delta_decrease'\n",
      "  '0.0']\n",
      " ['feature.english.informals.revision.diff.match_delta_sum' '1.0']\n",
      " ['feature.english.informals.revision.diff.match_delta_increase' '1.0']\n",
      " ['feature.english.informals.revision.diff.match_delta_decrease' '0.0']\n",
      " ['feature.english.informals.revision.diff.match_prop_delta_sum' '1.0']\n",
      " ['feature.english.informals.revision.diff.match_prop_delta_increase'\n",
      "  '1.0']\n",
      " ['feature.english.informals.revision.diff.match_prop_delta_decrease'\n",
      "  '0.0']\n",
      " ['feature.english.dictionary.revision.diff.dict_word_delta_sum' '5.0']\n",
      " ['feature.english.dictionary.revision.diff.dict_word_delta_increase'\n",
      "  '5.0']\n",
      " ['feature.english.dictionary.revision.diff.dict_word_delta_decrease'\n",
      "  '0.0']\n",
      " ['feature.english.dictionary.revision.diff.dict_word_prop_delta_sum'\n",
      "  '2.557462686567164']\n",
      " ['feature.english.dictionary.revision.diff.dict_word_prop_delta_increase'\n",
      "  '2.557462686567164']\n",
      " ['feature.english.dictionary.revision.diff.dict_word_prop_delta_decrease'\n",
      "  '0.0']\n",
      " ['feature.english.dictionary.revision.diff.non_dict_word_delta_sum'\n",
      "  '3.0']\n",
      " ['feature.english.dictionary.revision.diff.non_dict_word_delta_increase'\n",
      "  '3.0']\n",
      " ['feature.english.dictionary.revision.diff.non_dict_word_delta_decrease'\n",
      "  '0.0']\n",
      " ['feature.english.dictionary.revision.diff.non_dict_word_prop_delta_sum'\n",
      "  '3.0']\n",
      " ['feature.english.dictionary.revision.diff.non_dict_word_prop_delta_increase'\n",
      "  '3.0']\n",
      " ['feature.english.dictionary.revision.diff.non_dict_word_prop_delta_decrease'\n",
      "  '0.0']]\n",
      "{'prediction': True, 'probability': {False: 0.022211738133247172, True: 0.9777882618667528}}\n"
     ]
    }
   ],
   "source": [
    "import numpy as np\n",
    "\n",
    "# Add to list\n",
    "# rev_to_score = 846560713\n",
    "# Vandalism\n",
    "rev_to_score = 846560716\n",
    "features = [str(f) for f in sm.features]\n",
    "feature_values = np.array(list(extractor.extract(rev_to_score, sm.features)))\n",
    "\n",
    "prediction = sm.score(feature_values)\n",
    "\n",
    "print(\"https://en.wikipedia.org/?diff={}\".format(rev_to_score))\n",
    "print(np.array(list(zip(features, feature_values))))\n",
    "print(prediction)"
   ]
  },
  {
   "cell_type": "markdown",
   "metadata": {},
   "source": [
    "Set up a LIME explainer for this model.  It will randomly perturb features around the "
   ]
  },
  {
   "cell_type": "code",
   "execution_count": 5,
   "metadata": {},
   "outputs": [],
   "source": [
    "# TODO: Also explain as text, using our own explainer to run variations.\n",
    "from lime.lime_tabular import LimeTabularExplainer\n",
    "\n",
    "def score(samples):\n",
    "    raw_results = [np.array([sm.score(v)[\"probability\"][t] for t in [False, True]]) for v in samples]\n",
    "    return np.array(raw_results)\n",
    "\n",
    "# Transform training data into a numpy matrix.\n",
    "train = np.array([np.array([o[\"cache\"][k] for k in features]) for o in observations])\n",
    "\n",
    "# Identify which features are booleans.  Can we introspect the features?  Does LIME need to know about integers vs floats?\n",
    "#categorical_features = [0, 1, 2, 45, 46, 47, 48, 49, 50, 51, 54]\n",
    "\n",
    "# FIXME: randomly try adding the integers.\n",
    "categorical_features = [0, 1, 2, 16, 17, 18, 22, 23, 24, 25, 26, 27, 28, 28, 30, 31, 32, 33, 34, 35, 36, 37, 38, 39, 40, 41, 42, 43, 44, 45, 46, 47, 48, 49, 50, 51, 54, 56, 57, 58, 59, 60, 61, 62, 63, 64, 65, 66, 67, 68, 69, 73, 74, 75, 76, 77, 78, 79]\n",
    "\n",
    "explainer = LimeTabularExplainer(\n",
    "    train,\n",
    "    mode=\"classification\",\n",
    "    feature_names=features,\n",
    "    categorical_features=categorical_features,\n",
    "    class_names=[\"not damaging\", \"damaging\"],\n",
    "    discretize_continuous=True\n",
    ")"
   ]
  },
  {
   "cell_type": "markdown",
   "metadata": {},
   "source": [
    "Create an explainer for this prediction."
   ]
  },
  {
   "cell_type": "code",
   "execution_count": 6,
   "metadata": {},
   "outputs": [
    {
     "name": "stderr",
     "output_type": "stream",
     "text": [
      "/home/awight/venv/lib/python3.5/site-packages/scipy/linalg/basic.py:40: RuntimeWarning: scipy.linalg.solve\n",
      "Ill-conditioned matrix detected. Result is not guaranteed to be accurate.\n",
      "Reciprocal condition number/precision: 9.53789790466599e-28 / 1.1102230246251565e-16\n",
      "  RuntimeWarning)\n"
     ]
    }
   ],
   "source": [
    "exp = explainer.explain_instance(\n",
    "    np.array(feature_values),\n",
    "    score,\n",
    "    num_features=10,\n",
    "    top_labels=2\n",
    ")"
   ]
  },
  {
   "cell_type": "code",
   "execution_count": 7,
   "metadata": {
    "scrolled": true
   },
   "outputs": [
    {
     "data": {
      "image/png": "[encoded data removed]",
      "text/plain": [
       "<Figure size 432x288 with 1 Axes>"
      ]
     },
     "metadata": {},
     "output_type": "display_data"
    }
   ],
   "source": [
    "%matplotlib inline\n",
    "fig = exp.as_pyplot_figure(label=int(prediction[\"prediction\"]))"
   ]
  },
  {
   "cell_type": "code",
   "execution_count": 8,
   "metadata": {},
   "outputs": [
    {
     "data": {
      "text/plain": [
       "[('feature.log((temporal.revision.user.seconds_since_registration + 1)) <= 14.98',\n",
       "  0.09930807278167873),\n",
       " ('feature.revision.diff.longest_new_repeated_char=5', 0.08069852544829675),\n",
       " ('feature.revision.diff.chars_change=51', 0.0544306543502047),\n",
       " ('feature.revision.user.is_patroller=0', 0.047186606785062014),\n",
       " ('feature.english.informals.revision.diff.match_prop_delta_increase=1',\n",
       "  0.041716028912367496),\n",
       " ('feature.revision.user.is_bot=0', 0.028174494671761665),\n",
       " ('feature.english.informals.revision.diff.match_prop_delta_sum=1',\n",
       "  0.0270605359833338),\n",
       " ('feature.revision.user.is_admin=0', 0.025508282466766608),\n",
       " ('feature.revision.comment.has_link=0', 0.022145485222145392),\n",
       " ('feature.wikitext.revision.diff.markup_prop_delta_decrease <= 0.00', 0.0)]"
      ]
     },
     "execution_count": 8,
     "metadata": {},
     "output_type": "execute_result"
    }
   ],
   "source": [
    "exp.as_list(label=int(prediction[\"prediction\"]))"
   ]
  },
  {
   "cell_type": "code",
   "execution_count": null,
   "metadata": {},
   "outputs": [],
   "source": []
  }
 ],
 "metadata": {
  "kernelspec": {
   "display_name": "Python 3",
   "language": "python",
   "name": "python3"
  },
  "language_info": {
   "codemirror_mode": {
    "name": "ipython",
    "version": 3
   },
   "file_extension": ".py",
   "mimetype": "text/x-python",
   "name": "python",
   "nbconvert_exporter": "python",
   "pygments_lexer": "ipython3",
   "version": "3.5.3"
  }
 },
 "nbformat": 4,
 "nbformat_minor": 2
}
