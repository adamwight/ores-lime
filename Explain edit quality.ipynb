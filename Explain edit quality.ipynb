{
 "cells": [
  {
   "cell_type": "markdown",
   "metadata": {},
   "source": [
    "Score and explain a `damaging` prediction.\n",
    "\n",
    "Requires the \"editquality\" repository is checked out under your home directory."
   ]
  },
  {
   "cell_type": "code",
   "execution_count": 1,
   "metadata": {},
   "outputs": [
    {
     "name": "stderr",
     "output_type": "stream",
     "text": [
      "/home/awight/venv/lib/python3.5/site-packages/sklearn/cross_validation.py:41: DeprecationWarning: This module was deprecated in version 0.18 in favor of the model_selection module into which all the refactored classes and functions are moved. Also note that the interface of the new CV iterators are different from that of this module. This module will be removed in 0.20.\n",
      "  \"This module will be removed in 0.20.\", DeprecationWarning)\n",
      "Differences between the current environment and the environment in which the model was constructed environment were detected:\n",
      " - platform 'Linux-4.9.0-6-amd64-x86_64-with-debian-9.4' mismatch with original environment 'Linux-4.16.0-x86_64-with-debian-9.4'\n",
      " - release '4.9.0-6-amd64' mismatch with original environment '4.16.0'\n",
      " - revscoring_version '2.2.2' mismatch with original environment '2.2.5'\n",
      " - version '#1 SMP Debian 4.9.82-1+deb9u3 (2018-03-02)' mismatch with original environment '#1 SMP Wed Apr 18 14:02:11 PDT 2018'\n"
     ]
    }
   ],
   "source": [
    "import os.path\n",
    "\n",
    "from revscoring import Model\n",
    "\n",
    "\n",
    "model_path = os.path.expanduser(\"~/editquality/models/enwiki.damaging.gradient_boosting.model\")\n",
    "sm = Model.load(open(model_path), error_on_env_check=False)"
   ]
  },
  {
   "cell_type": "code",
   "execution_count": 2,
   "metadata": {},
   "outputs": [],
   "source": [
    "import mwapi\n",
    "from revscoring.extractors import api\n",
    "\n",
    "extractor = api.Extractor(mwapi.Session(\"https://en.wikipedia.org\", user_agent=\"ORES-LIME demo\"))"
   ]
  },
  {
   "cell_type": "code",
   "execution_count": 3,
   "metadata": {},
   "outputs": [],
   "source": [
    "# Load training set\n",
    "from revscoring.utilities.util import read_observations\n",
    "\n",
    "observations = list(read_observations(open(os.path.expanduser(\"~/editquality/datasets/enwiki.labeled_revisions.w_cache.20k_2015.json\"))))"
   ]
  },
  {
   "cell_type": "markdown",
   "metadata": {},
   "source": [
    "Pick a revision, extract the features and score."
   ]
  },
  {
   "cell_type": "code",
   "execution_count": 9,
   "metadata": {},
   "outputs": [
    {
     "name": "stdout",
     "output_type": "stream",
     "text": [
      "https://en.wikipedia.org/?diff=846569040\n",
      "[['feature.revision.page.is_articleish' '0.0']\n",
      " ['feature.revision.page.is_mainspace' '0.0']\n",
      " ['feature.revision.page.is_draftspace' '0.0']\n",
      " ['feature.log((wikitext.revision.parent.chars + 1))' '10.59635969527664']\n",
      " ['feature.log((AggregatorsScalar(<datasource.tokenized(datasource.revision.parent.text)>) + 1))'\n",
      "  '9.546312483555713']\n",
      " ['feature.log((AggregatorsScalar(<datasource.wikitext.revision.parent.words>) + 1))'\n",
      "  '8.600430789986293']\n",
      " ['feature.log((AggregatorsScalar(<datasource.wikitext.revision.parent.uppercase_words>) + 1))'\n",
      "  '5.043425116919247']\n",
      " ['feature.log((wikitext.revision.parent.headings + 1))'\n",
      "  '3.295836866004329']\n",
      " ['feature.log((wikitext.revision.parent.wikilinks + 1))'\n",
      "  '5.298317366548036']\n",
      " ['feature.log((wikitext.revision.parent.external_links + 1))'\n",
      "  '2.995732273553991']\n",
      " ['feature.log((wikitext.revision.parent.templates + 1))'\n",
      "  '3.295836866004329']\n",
      " ['feature.log((wikitext.revision.parent.ref_tags + 1))' '0.0']\n",
      " ['feature.revision.parent.chars_per_word' '7.3602061476164184']\n",
      " ['feature.revision.parent.words_per_token' '0.38829331046312177']\n",
      " ['feature.revision.parent.uppercase_words_per_word'\n",
      "  '0.02834529725750046']\n",
      " ['feature.revision.parent.markups_per_token' '0.048527730131503716']\n",
      " ['feature.wikitext.revision.diff.markup_delta_sum' '12.0']\n",
      " ['feature.wikitext.revision.diff.markup_delta_increase' '12.0']\n",
      " ['feature.wikitext.revision.diff.markup_delta_decrease' '0.0']\n",
      " ['feature.wikitext.revision.diff.markup_prop_delta_sum'\n",
      "  '0.08496334118879288']\n",
      " ['feature.wikitext.revision.diff.markup_prop_delta_increase'\n",
      "  '0.08496334118879288']\n",
      " ['feature.wikitext.revision.diff.markup_prop_delta_decrease' '0.0']\n",
      " ['feature.wikitext.revision.diff.number_delta_sum' '4.0']\n",
      " ['feature.wikitext.revision.diff.number_delta_increase' '4.0']\n",
      " ['feature.wikitext.revision.diff.number_delta_decrease' '0.0']\n",
      " ['feature.wikitext.revision.diff.number_prop_delta_sum'\n",
      "  '0.5069444444444444']\n",
      " ['feature.wikitext.revision.diff.number_prop_delta_increase'\n",
      "  '0.5069444444444444']\n",
      " ['feature.wikitext.revision.diff.number_prop_delta_decrease' '0.0']\n",
      " ['feature.wikitext.revision.diff.uppercase_word_delta_sum' '1.0']\n",
      " ['feature.wikitext.revision.diff.uppercase_word_delta_increase' '1.0']\n",
      " ['feature.wikitext.revision.diff.uppercase_word_delta_decrease' '0.0']\n",
      " ['feature.wikitext.revision.diff.uppercase_word_prop_delta_sum'\n",
      "  '0.015151515151515152']\n",
      " ['feature.wikitext.revision.diff.uppercase_word_prop_delta_increase'\n",
      "  '0.015151515151515152']\n",
      " ['feature.wikitext.revision.diff.uppercase_word_prop_delta_decrease'\n",
      "  '0.0']\n",
      " ['feature.revision.diff.chars_change' '250.0']\n",
      " ['feature.revision.diff.tokens_change' '88.0']\n",
      " ['feature.revision.diff.words_change' '26.0']\n",
      " ['feature.revision.diff.words_change' '26.0']\n",
      " ['feature.revision.diff.headings_change' '0.0']\n",
      " ['feature.revision.diff.external_links_change' '0.0']\n",
      " ['feature.revision.diff.wikilinks_change' '5.0']\n",
      " ['feature.revision.diff.templates_change' '0.0']\n",
      " ['feature.revision.diff.ref_tags_change' '0.0']\n",
      " ['feature.revision.diff.longest_new_token' '1.0']\n",
      " ['feature.revision.diff.longest_new_repeated_char' '1.0']\n",
      " ['feature.revision.user.is_bot' '0.0']\n",
      " ['feature.revision.user.has_advanced_rights' '0.0']\n",
      " ['feature.revision.user.is_admin' '1.0']\n",
      " ['feature.revision.user.is_trusted' '0.0']\n",
      " ['feature.revision.user.is_patroller' '0.0']\n",
      " ['feature.revision.user.is_curator' '0.0']\n",
      " ['feature.revision.user.is_anon' '0.0']\n",
      " ['feature.log((temporal.revision.user.seconds_since_registration + 1))'\n",
      "  '19.689741552484897']\n",
      " ['feature.revision.comment.suggests_section_edit' '1.0']\n",
      " ['feature.revision.comment.has_link' '0.0']\n",
      " ['feature.english.badwords.revision.diff.match_delta_sum' '0.0']\n",
      " ['feature.english.badwords.revision.diff.match_delta_increase' '0.0']\n",
      " ['feature.english.badwords.revision.diff.match_delta_decrease' '0.0']\n",
      " ['feature.english.badwords.revision.diff.match_prop_delta_sum' '0.0']\n",
      " ['feature.english.badwords.revision.diff.match_prop_delta_increase'\n",
      "  '0.0']\n",
      " ['feature.english.badwords.revision.diff.match_prop_delta_decrease'\n",
      "  '0.0']\n",
      " ['feature.english.informals.revision.diff.match_delta_sum' '0.0']\n",
      " ['feature.english.informals.revision.diff.match_delta_increase' '0.0']\n",
      " ['feature.english.informals.revision.diff.match_delta_decrease' '0.0']\n",
      " ['feature.english.informals.revision.diff.match_prop_delta_sum' '0.0']\n",
      " ['feature.english.informals.revision.diff.match_prop_delta_increase'\n",
      "  '0.0']\n",
      " ['feature.english.informals.revision.diff.match_prop_delta_decrease'\n",
      "  '0.0']\n",
      " ['feature.english.dictionary.revision.diff.dict_word_delta_sum' '22.0']\n",
      " ['feature.english.dictionary.revision.diff.dict_word_delta_increase'\n",
      "  '22.0']\n",
      " ['feature.english.dictionary.revision.diff.dict_word_delta_decrease'\n",
      "  '0.0']\n",
      " ['feature.english.dictionary.revision.diff.dict_word_prop_delta_sum'\n",
      "  '1.5636278775587642']\n",
      " ['feature.english.dictionary.revision.diff.dict_word_prop_delta_increase'\n",
      "  '1.5636278775587642']\n",
      " ['feature.english.dictionary.revision.diff.dict_word_prop_delta_decrease'\n",
      "  '0.0']\n",
      " ['feature.english.dictionary.revision.diff.non_dict_word_delta_sum'\n",
      "  '4.0']\n",
      " ['feature.english.dictionary.revision.diff.non_dict_word_delta_increase'\n",
      "  '4.0']\n",
      " ['feature.english.dictionary.revision.diff.non_dict_word_delta_decrease'\n",
      "  '0.0']\n",
      " ['feature.english.dictionary.revision.diff.non_dict_word_prop_delta_sum'\n",
      "  '0.25411849782559165']\n",
      " ['feature.english.dictionary.revision.diff.non_dict_word_prop_delta_increase'\n",
      "  '0.25411849782559165']\n",
      " ['feature.english.dictionary.revision.diff.non_dict_word_prop_delta_decrease'\n",
      "  '0.0']]\n",
      "{'prediction': False, 'probability': {False: 0.9954851856603955, True: 0.004514814339604508}}\n"
     ]
    }
   ],
   "source": [
    "import numpy as np\n",
    "\n",
    "# Add to list\n",
    "# rev_to_score = 846560713\n",
    "# Vandalism\n",
    "# rev_to_score = 846560716\n",
    "# Wiki talk\n",
    "rev_to_score = 846569040\n",
    "features = [str(f) for f in sm.features]\n",
    "feature_values = np.array(list(extractor.extract(rev_to_score, sm.features)))\n",
    "\n",
    "prediction = sm.score(feature_values)\n",
    "\n",
    "print(\"https://en.wikipedia.org/?diff={}\".format(rev_to_score))\n",
    "print(np.array(list(zip(features, feature_values))))\n",
    "print(prediction)"
   ]
  },
  {
   "cell_type": "markdown",
   "metadata": {},
   "source": [
    "Set up a LIME explainer for this model.  It will randomly perturb features of the revision being scored."
   ]
  },
  {
   "cell_type": "code",
   "execution_count": 47,
   "metadata": {},
   "outputs": [],
   "source": [
    "# TODO: Also explain as text, using our own explainer to run variations.\n",
    "from lime.lime_tabular import LimeTabularExplainer\n",
    "\n",
    "def score(samples):\n",
    "    raw_results = [np.array([sm.score(v)[\"probability\"][t] for t in [False, True]]) for v in samples]\n",
    "    return np.array(raw_results)\n",
    "\n",
    "# Transform training data into a numpy matrix.\n",
    "train = np.array([np.array([o[\"cache\"][k] for k in features]) for o in observations])\n",
    "\n",
    "# Identify which features are booleans.  Can we introspect the features?\n",
    "categorical_features = [0, 1, 2, 45, 46, 47, 48, 49, 50, 51, 53, 54]\n",
    "\n",
    "explainer = LimeTabularExplainer(\n",
    "    train,\n",
    "    mode=\"classification\",\n",
    "    feature_names=features,\n",
    "    categorical_features=categorical_features,\n",
    "    class_names=[\"not damaging\", \"damaging\"],\n",
    "    discretize_continuous=False\n",
    ")"
   ]
  },
  {
   "cell_type": "markdown",
   "metadata": {},
   "source": [
    "Create an explainer for this prediction."
   ]
  },
  {
   "cell_type": "code",
   "execution_count": 51,
   "metadata": {},
   "outputs": [],
   "source": [
    "predicted_label = int(prediction[\"prediction\"])\n",
    "exp = explainer.explain_instance(\n",
    "    np.array(feature_values),\n",
    "    score,\n",
    "    num_features=20,\n",
    "    labels=(predicted_label,)\n",
    ")\n"
   ]
  },
  {
   "cell_type": "code",
   "execution_count": 52,
   "metadata": {
    "scrolled": true
   },
   "outputs": [
    {
     "data": {
      "image/png": "[encoded data removed]",
      "text/plain": [
       "<Figure size 432x288 with 1 Axes>"
      ]
     },
     "metadata": {},
     "output_type": "display_data"
    }
   ],
   "source": [
    "%matplotlib inline\n",
    "fig = exp.as_pyplot_figure(label=predicted_label)"
   ]
  },
  {
   "cell_type": "code",
   "execution_count": 50,
   "metadata": {},
   "outputs": [
    {
     "data": {
      "text/plain": [
       "[('feature.revision.user.is_patroller=0', -0.02885656431020327),\n",
       " ('feature.revision.user.is_bot=0', -0.017047548128635),\n",
       " ('feature.revision.user.is_admin=1', 0.016879363247238315),\n",
       " ('feature.revision.comment.has_link=0', -0.013085758344046244),\n",
       " ('feature.log((temporal.revision.user.seconds_since_registration + 1))',\n",
       "  0.012138254005540654),\n",
       " ('feature.revision.page.is_draftspace=0', 0.011583228187620071),\n",
       " ('feature.revision.page.is_articleish=0', 0.009507456785575104),\n",
       " ('feature.revision.page.is_mainspace=0', 0.008447444624258619),\n",
       " ('feature.revision.comment.suggests_section_edit=1', 0.002015611098428384),\n",
       " ('feature.revision.user.has_advanced_rights=0', -0.0009971044755248304)]"
      ]
     },
     "execution_count": 50,
     "metadata": {},
     "output_type": "execute_result"
    }
   ],
   "source": [
    "exp.as_list(label=predicted_label)"
   ]
  },
  {
   "cell_type": "code",
   "execution_count": 67,
   "metadata": {},
   "outputs": [
    {
     "name": "stdout",
     "output_type": "stream",
     "text": [
      "Damaging changed 0.004514814339604508 -> 0.0027323188714148384 after injecting {\"feature.revision.user.is_patroller\": true}\n",
      "Damaging changed 0.004514814339604508 -> 0.005871103107114889 after injecting {\"feature.revision.user.is_admin\": false}\n",
      "Damaging changed 0.004514814339604508 -> 0.0035872217248806 after injecting {\"feature.english.badwords.revision.diff.match_delta_increase\": 3, \"feature.english.badwords.revision.diff.match_delta_sum\": 3}\n",
      "Damaging changed 0.004514814339604508 -> 0.004651012157624187 after injecting {\"feature.english.badwords.revision.diff.match_delta_increase\": 3, \"feature.english.badwords.revision.diff.match_delta_sum\": 3, \"feature.revision.user.is_admin\": false}\n"
     ]
    }
   ],
   "source": [
    "import json\n",
    "\n",
    "def compare_injected_features(rev_id, cache):\n",
    "    feature_values = np.array(list(extractor.extract(rev_id, sm.features)))\n",
    "    baseline = sm.score(feature_values)[\"probability\"][True]\n",
    "    \n",
    "    inject_json = json.dumps(cache)\n",
    "    feature_values = np.array(list(extractor.extract(rev_id, sm.features, cache=cache)))\n",
    "    perturbed = sm.score(feature_values)[\"probability\"][True]\n",
    "    \n",
    "    print(\"Damaging changed {} -> {} after injecting {}\".format(baseline, perturbed, inject_json))\n",
    "\n",
    "compare_injected_features(rev_to_score, {\"feature.revision.user.is_patroller\": True})\n",
    "compare_injected_features(rev_to_score, {\"feature.revision.user.is_admin\": False})\n",
    "compare_injected_features(rev_to_score, {\"feature.english.badwords.revision.diff.match_delta_sum\": 3, \"feature.english.badwords.revision.diff.match_delta_increase\": 3})\n",
    "compare_injected_features(rev_to_score, {\"feature.english.badwords.revision.diff.match_delta_sum\": 3, \"feature.english.badwords.revision.diff.match_delta_increase\": 3, \"feature.revision.user.is_admin\": False})\n"
   ]
  }
 ],
 "metadata": {
  "kernelspec": {
   "display_name": "Python 3",
   "language": "python",
   "name": "python3"
  },
  "language_info": {
   "codemirror_mode": {
    "name": "ipython",
    "version": 3
   },
   "file_extension": ".py",
   "mimetype": "text/x-python",
   "name": "python",
   "nbconvert_exporter": "python",
   "pygments_lexer": "ipython3",
   "version": "3.5.3"
  }
 },
 "nbformat": 4,
 "nbformat_minor": 2
}
