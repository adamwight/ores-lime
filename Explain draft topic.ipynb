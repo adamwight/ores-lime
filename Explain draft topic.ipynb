{
 "cells": [
  {
   "cell_type": "markdown",
   "metadata": {},
   "source": [
    "Score and explain a `drafttopic` prediction.\n",
    "\n",
    "## Requirements\n",
    "\n",
    "To run this code yourself, it's recommended to use virtualenv.  Dependencies are as follows,\n",
    "\n",
    "    pip install -r requirements.txt\n",
    "    \n",
    "    cd ~ && git clone http://github.com/wiki-ai/drafttopic"
   ]
  },
  {
   "cell_type": "code",
   "execution_count": 1,
   "metadata": {},
   "outputs": [
    {
     "name": "stderr",
     "output_type": "stream",
     "text": [
      "/home/awight/venv/lib/python3.5/site-packages/sklearn/cross_validation.py:41: DeprecationWarning: This module was deprecated in version 0.18 in favor of the model_selection module into which all the refactored classes and functions are moved. Also note that the interface of the new CV iterators are different from that of this module. This module will be removed in 0.20.\n",
      "  \"This module will be removed in 0.20.\", DeprecationWarning)\n",
      "Differences between the current environment and the environment in which the model was constructed environment were detected:\n",
      " - version '#1 SMP Debian 4.9.65-3+deb9u2 (2018-01-04)' mismatch with original environment '#1 SMP Wed Apr 18 14:02:11 PDT 2018'\n",
      " - release '4.9.0-5-amd64' mismatch with original environment '4.16.0'\n",
      " - platform 'Linux-4.9.0-5-amd64-x86_64-with-debian-9.4' mismatch with original environment 'Linux-4.16.0-x86_64-with-debian-9.4'\n",
      " - revscoring_version '2.2.3' mismatch with original environment '2.2.5'\n"
     ]
    }
   ],
   "source": [
    "import os.path\n",
    "\n",
    "from revscoring import Model\n",
    "\n",
    "model_path = os.path.expanduser(\"~/drafttopic/models/enwiki.drafttopic.gradient_boosting.model\")\n",
    "sm = Model.load(open(model_path), error_on_env_check=False)"
   ]
  },
  {
   "cell_type": "code",
   "execution_count": 2,
   "metadata": {},
   "outputs": [],
   "source": [
    "import mwapi\n",
    "from revscoring.extractors import api\n",
    "\n",
    "extractor = api.Extractor(mwapi.Session(\"https://en.wikipedia.org\", user_agent=\"ORES-LIME demo\"))"
   ]
  },
  {
   "cell_type": "markdown",
   "metadata": {},
   "source": [
    "Pick a revision, extract the features and score."
   ]
  },
  {
   "cell_type": "code",
   "execution_count": 3,
   "metadata": {},
   "outputs": [
    {
     "name": "stdout",
     "output_type": "stream",
     "text": [
      "https://en.wikipedia.org/?oldid=42344094\n",
      "'''John Davis''' an [[American]] and [[seal]] hunter who claimed to have first set foot on [[Antarctica]] on February 7, [[1821]].\n"
     ]
    }
   ],
   "source": [
    "import numpy as np\n",
    "from revscoring.datasources import revision_oriented\n",
    "\n",
    "# Initial revision for \"Zatrachydidae\"\n",
    "# rev_to_score = 44346279\n",
    "rev_to_score = 42344094\n",
    "print(\"https://en.wikipedia.org/?oldid={}\".format(rev_to_score))\n",
    "\n",
    "original_text = list(extractor.extract(rev_to_score, [revision_oriented.revision.text]))[0]\n",
    "print(original_text)"
   ]
  },
  {
   "cell_type": "code",
   "execution_count": 4,
   "metadata": {},
   "outputs": [
    {
     "data": {
      "text/plain": [
       "[('Culture.Language and literature', 0.5791824638170249),\n",
       " ('Geography.Countries', 0.3864267805975978),\n",
       " ('History_And_Society.History and society', 0.12771131153070786),\n",
       " ('STEM.Geosciences', 0.0814095975211992),\n",
       " ('Culture.Sports', 0.08120918711989812),\n",
       " ('Geography.Oceania', 0.06478403548104734),\n",
       " ('History_And_Society.Military and warfare', 0.06038004482368806),\n",
       " ('STEM.Biology', 0.05608502143838874),\n",
       " ('Geography.Europe', 0.052775294493675996),\n",
       " ('Geography.Maps', 0.04365371048467642),\n",
       " ('Assistance.Maintenance', 0.04044361162431293),\n",
       " ('Culture.Visual arts', 0.021829483813867425),\n",
       " ('Geography.Bodies of water', 0.011764306734145118),\n",
       " ('Culture.Entertainment', 0.011494598383643589),\n",
       " ('Culture.Broadcasting', 0.01032794084965132),\n",
       " ('History_And_Society.Transportation', 0.008297619874529363),\n",
       " ('STEM.Physics', 0.007202913660558299),\n",
       " ('Geography.Landforms', 0.006480745325556169),\n",
       " ('History_And_Society.Politics and government', 0.006350881163692786),\n",
       " ('STEM.Technology', 0.00610689573685276),\n",
       " ('STEM.Engineering', 0.0059250745031919),\n",
       " ('Assistance.Files', 0.005699261161671524),\n",
       " ('Culture.Philosophy and religion', 0.00552768392014976),\n",
       " ('STEM.Meteorology', 0.005488956410844378),\n",
       " ('STEM.Medicine', 0.005083234322707372),\n",
       " ('Culture.Media', 0.004929604256430002),\n",
       " ('STEM.Science', 0.004398646503550177),\n",
       " ('History_And_Society.Business and economics', 0.0034183983252310157),\n",
       " ('Culture.Internet culture', 0.0030329532394560545),\n",
       " ('Culture.Crafts and hobbies', 0.0027058997014709645),\n",
       " ('Assistance.Contents systems', 0.0022883374769802783),\n",
       " ('STEM.Chemistry', 0.0017552949686947198),\n",
       " ('STEM.Time', 0.0017175405134745084),\n",
       " ('Culture.Plastic arts', 0.0016869948420920207),\n",
       " ('History_And_Society.Education', 0.0015123269687912881),\n",
       " ('STEM.Mathematics', 0.0012036330444794077),\n",
       " ('Culture.Arts', 0.001182614065006516),\n",
       " ('Culture.Performing arts', 0.0008375490308323133),\n",
       " ('STEM.Information science', 0.00045710284441373146),\n",
       " ('Culture.Food and drink', 0.00045325850552215805),\n",
       " ('STEM.Space', 0.00034946577177597557),\n",
       " ('Geography.Cities', 9.934280977363446e-05),\n",
       " ('Assistance.Article improvement and grading', 1.167035663840397e-06)]"
      ]
     },
     "execution_count": 4,
     "metadata": {},
     "output_type": "execute_result"
    }
   ],
   "source": [
    "features = [str(f) for f in sm.features]\n",
    "feature_values = np.array(list(extractor.extract(rev_to_score, sm.features)))\n",
    "\n",
    "prediction = sm.score(feature_values)\n",
    "\n",
    "import operator\n",
    "sorted(prediction[\"probability\"].items(), key=operator.itemgetter(1), reverse=True)"
   ]
  },
  {
   "cell_type": "markdown",
   "metadata": {},
   "source": [
    "## Explain\n",
    "\n",
    "Why did we get this result?  Set up a LIME explainer for this model.  This type of explainer will perturb the text content of the revision being scored in order to find local gradients for each word."
   ]
  },
  {
   "cell_type": "code",
   "execution_count": 5,
   "metadata": {},
   "outputs": [],
   "source": [
    "from lime.lime_text import LimeTextExplainer\n",
    "\n",
    "class_names = sm.info[\"params\"][\"labels\"]\n",
    "\n",
    "def score(text):\n",
    "    cache = {\"datasource.revision.text\": text}\n",
    "    feature_values = np.array(list(extractor.extract(rev_to_score, sm.features, cache=cache)))\n",
    "    probabilities = sm.score(feature_values)[\"probability\"]\n",
    "    return np.array([probabilities[k] for k in class_names])\n",
    "\n",
    "def score_all(samples):\n",
    "    raw_results = [score(v) for v in samples]\n",
    "    return np.array(raw_results)\n",
    "\n",
    "explainer = LimeTextExplainer(\n",
    "    class_names=class_names\n",
    ")"
   ]
  },
  {
   "cell_type": "markdown",
   "metadata": {},
   "source": [
    "Calculate the explanation for this prediction.  Note: this may take 5 minutes or longer."
   ]
  },
  {
   "cell_type": "code",
   "execution_count": 6,
   "metadata": {},
   "outputs": [
    {
     "name": "stderr",
     "output_type": "stream",
     "text": [
      "/home/awight/venv/lib/python3.5/re.py:203: FutureWarning: split() requires a non-empty pattern match.\n",
      "  return _compile(pattern, flags).split(string, maxsplit)\n"
     ]
    }
   ],
   "source": [
    "exp = explainer.explain_instance(\n",
    "    original_text,\n",
    "    score_all,\n",
    "    num_features=20,\n",
    "    top_labels=3\n",
    ")\n"
   ]
  },
  {
   "cell_type": "code",
   "execution_count": 7,
   "metadata": {
    "scrolled": true
   },
   "outputs": [
    {
     "data": {
      "image/png": "[encoded data removed]",
      "text/plain": [
       "<Figure size 432x288 with 1 Axes>"
      ]
     },
     "metadata": {},
     "output_type": "display_data"
    },
    {
     "data": {
      "image/png": "[encoded data removed]",
      "text/plain": [
       "<Figure size 432x288 with 1 Axes>"
      ]
     },
     "metadata": {},
     "output_type": "display_data"
    },
    {
     "data": {
      "image/png": "[encoded data removed]",
      "text/plain": [
       "<Figure size 432x288 with 1 Axes>"
      ]
     },
     "metadata": {},
     "output_type": "display_data"
    }
   ],
   "source": [
    "%matplotlib inline\n",
    "for label_index in exp.local_exp.keys():\n",
    "    fig = exp.as_pyplot_figure(label=label_index)"
   ]
  },
  {
   "cell_type": "code",
   "execution_count": null,
   "metadata": {},
   "outputs": [],
   "source": []
  }
 ],
 "metadata": {
  "kernelspec": {
   "display_name": "Python 3",
   "language": "python",
   "name": "python3"
  },
  "language_info": {
   "codemirror_mode": {
    "name": "ipython",
    "version": 3
   },
   "file_extension": ".py",
   "mimetype": "text/x-python",
   "name": "python",
   "nbconvert_exporter": "python",
   "pygments_lexer": "ipython3",
   "version": "3.5.3"
  }
 },
 "nbformat": 4,
 "nbformat_minor": 2
}
